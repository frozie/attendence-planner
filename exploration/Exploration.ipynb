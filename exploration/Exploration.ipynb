{
 "cells": [
  {
   "cell_type": "markdown",
   "metadata": {},
   "source": [
    "# Optimize employee attendence planning via linear optimizion\n",
    "\n",
    "We organize our attendence time in timeslots. So we have a set $T$ of timeslots and $T_W \\subseteq T$ for workday timeslots and $T_F = T \\setminus T_W$ for timeslots not during working hours. (Timeslots not during working hours are payed extra.) Timeslots $t_1$ and $t_2$ in $T$ are called consequitive if they are directly after each other (Example $t_1$ ends at 9am and $t_2$ starts at 9am). So if we write $t+1$ we mean the consequitive timeslot after $t$. We can only have one consequitive timeslot. When indexing timeslots $t_i$ \n",
    "\n",
    "We have a set of employees $E$ and we have a set of $E_N \\subseteq E$ for normal employees also we have some employees who have more experience or more power called escalation employees $E_E \\subseteq E$. Each employee can specify how many timeslots she/he aims to be allocated as a normal employee or an escalation employee. We call this mapping target workload for normal employees $twl_N: E_N \\rightarrow \\mathbb{N}$ and $twl_E: E_E \\rightarrow \\mathbb{N}$.\n",
    "//TODO constraints for $twl_N$ and $twl_E$\n",
    "\n",
    "Each employee can also specify in which timeslots they do not have time ($\\bot$) and for which timeslots they have to be allocated ($\\top$). They can also keep it unspecified ($\\sim$) meaning that the algorithm is free to allocate the attendence. We call this function employee constraints $ec_{N}: E_N \\times T \\rightarrow \\{ \\top, \\bot, \\sim \\}$ (normal employees) and $ec_{E}: E_E \\times T \\rightarrow \\{ \\top, \\bot, \\sim \\}$ (for escalation employees)."
   ]
  },
  {
   "cell_type": "code",
   "execution_count": 1,
   "metadata": {
    "collapsed": false
   },
   "outputs": [],
   "source": [
    "import math\n",
    "from ortools.sat.python import cp_model\n",
    "\n",
    "amountTimeSlots = 4*4\n",
    "timeSlots = range(amountTimeSlots)\n",
    "timeSlotsWorkday = [1,2,5,6,9,10,13,14]\n",
    "timeSlotsFree = [t for t in timeSlots if t not in timeSlotsWorkday]\n",
    "\n",
    "amountEmployees = 5\n",
    "employees = range(amountEmployees)\n",
    "normalEmployees = [1,2,3,4]\n",
    "escalationEmployees = [0,1,2]\n",
    "targetWorkloadNormal = {}\n",
    "for e in normalEmployees:\n",
    "    targetWorkloadNormal[e] = 0\n",
    "targetWorkloadEscalation = {}\n",
    "for e in escalationEmployees:\n",
    "    targetWorkloadEscalation[e] = 0\n",
    "targetWorkloadEscalation[2] = 2\n",
    "targetWorkloadEscalation[1] = 2\n",
    "targetWorkloadEscalation[0] = 2\n",
    "\n",
    "normalEmployeeConstraints = {}\n",
    "for e in normalEmployees:\n",
    "    for t in timeSlots:\n",
    "        normalEmployeeConstraints[(e,t)] = None\n",
    "normalEmployeeConstraints[(1,0)] = False\n",
    "normalEmployeeConstraints[(2,0)] = False\n",
    "escalationEmployeeConstraints = {}\n",
    "for e in escalationEmployees:\n",
    "    for t in timeSlots:\n",
    "        escalationEmployeeConstraints[(e,t)] = None\n",
    "escalationEmployeeConstraints[(2,0)] = True\n",
    "escalationEmployeeConstraints[(0,1)] = False\n",
    "escalationEmployeeConstraints[(1,1)] = False\n",
    "escalationEmployeeConstraints[(0,2)] = False\n",
    "escalationEmployeeConstraints[(1,2)] = False"
   ]
  },
  {
   "cell_type": "markdown",
   "metadata": {},
   "source": [
    "## Model\n",
    "We model the allocation of a normal employee to a timeslot with a set $A_N$ of predicates $\\varphi_{e,t}$ $\\Leftrightarrow$ $e$ has (normal) attendence at timeslot $t$\n",
    "$$A_N = \\{ \\varphi_{e,t} \\mid e \\in E_N \\wedge t \\in T \\} $$\n",
    "\n",
    "Similary, we model the attendencies for escalation employees $\\psi_{e,t}$ $\\Leftrightarrow$ $e$ has (escaltaion) attendence at timeslot $t$\n",
    "$$A_E = \\{ \\psi_{e,t} \\mid e \\in E_E \\wedge t \\in T \\} $$\n",
    "\n",
    "To sum how many timeslots of a given set of timeslots an employee is allocated, we use the following workload function for an allocation model $A$, an employee $e \\in E$, and a set of timeslots $T_u \\subseteq T$ ($btoi$-maps true to 1)\n",
    "$$wl_A(T_u, e) = \\sum_{t \\in T_u}^\\infty btoi( \\varphi_{e,t} \\in A \\wedge \\varphi_{e,t} )  $$"
   ]
  },
  {
   "cell_type": "code",
   "execution_count": 2,
   "metadata": {
    "collapsed": true
   },
   "outputs": [],
   "source": [
    "model = cp_model.CpModel()\n",
    "    \n",
    "assignedNormalTimeSlots = {}\n",
    "for e in normalEmployees:\n",
    "    for t in timeSlots:\n",
    "        assignedNormalTimeSlots[(e,t)] = model.NewBoolVar(\"slot %i is for person %i\" % (t,e))\n",
    "        \n",
    "assignedEscalationTimeSlots = {}\n",
    "for e in escalationEmployees:\n",
    "    for t in timeSlots:\n",
    "        assignedEscalationTimeSlots[(e,t)] = model.NewBoolVar(\"escalation slot %i is for person %i\" % (t,e))\n",
    "        \n",
    "def workload(inModel, inTimeSlots, employee):\n",
    "    return sum(inModel[(employee,t)] for t in inTimeSlots)"
   ]
  },
  {
   "cell_type": "markdown",
   "metadata": {},
   "source": [
    "## Rules\n",
    "### Respect employee constraints\n",
    "Normal employees should be allocated or not allocated according to their employee constraints $ec_N$ (Note, if two employees want the same timeslot we will not find any feasible solution):\n",
    "$$\\forall_{t \\in T} \\, \\forall_{e \\in E_N} \\, ec_N(e,t) = \\top \\rightarrow \\varphi_{e,t} $$\n",
    "$$\\forall_{t \\in T} \\, \\forall_{e \\in E_N} \\, ec_N(e,t) = \\bot \\rightarrow \\neg \\varphi_{e,t} $$\n",
    "\n",
    "Similary for escalation employees:\n",
    "$$\\forall_{t \\in T} \\, \\forall_{e \\in E_E} \\, ec_E(e,t) = \\top \\rightarrow \\psi_{e,t} $$\n",
    "$$\\forall_{t \\in T} \\, \\forall_{e \\in E_E} \\, ec_E(e,t) = \\bot \\rightarrow \\neg \\psi_{e,t} $$"
   ]
  },
  {
   "cell_type": "code",
   "execution_count": 3,
   "metadata": {
    "collapsed": true
   },
   "outputs": [],
   "source": [
    "for e in normalEmployees:\n",
    "    for t in timeSlots:\n",
    "        if normalEmployeeConstraints[(e,t)] != None:\n",
    "            model.Add(assignedNormalTimeSlots[(e,t)] == normalEmployeeConstraints[(e,t)])\n",
    "            \n",
    "for e in escalationEmployees:\n",
    "    for t in timeSlots:\n",
    "        if escalationEmployeeConstraints[(e,t)] != None:\n",
    "            model.Add(assignedEscalationTimeSlots[(e,t)] == escalationEmployeeConstraints[(e,t)])"
   ]
  },
  {
   "cell_type": "markdown",
   "metadata": {},
   "source": [
    "### Each timeslot is allocated with *one* normal *employee*:\n",
    "$$ \\forall_{t \\in T} \\, \\exists_{e \\in E_N} \\, \\varphi_{e,t} $$\n",
    "\n",
    "For escalation:\n",
    "$$ \\forall_{t \\in T} \\, \\exists_{e \\in E_E} \\, \\psi_{e,t} $$\n",
    "\n",
    "### Each timeslot is allocated with *not more than one* normal *employee*:\n",
    "$$\\forall_{t \\in T} \\, \\forall_{e_1 \\in E_N} \\, \\forall_{e_2 \\in E_N} \\, e_1 \\neq e_2 \\rightarrow ( \\varphi_{e_1,t} \\rightarrow \\neg \\varphi_{e_2,t})$$\n",
    "\n",
    "For escalation:\n",
    "$$\\forall_{t \\in T} \\, \\forall_{e_1 \\in E_E} \\, \\forall_{e_2 \\in E_E} \\, e_1 \\neq e_2 \\rightarrow ( \\psi_{e_1,t} \\rightarrow \\neg \\psi_{e_2,t})$$"
   ]
  },
  {
   "cell_type": "code",
   "execution_count": 4,
   "metadata": {
    "collapsed": true
   },
   "outputs": [],
   "source": [
    "for t in timeSlots:\n",
    "    model.Add(sum(assignedNormalTimeSlots[(e,t)] for e in normalEmployees) == 1)\n",
    "    model.Add(sum(assignedEscalationTimeSlots[(e,t)] for e in escalationEmployees) == 1)"
   ]
  },
  {
   "cell_type": "markdown",
   "metadata": {},
   "source": [
    "### No one can be his own escalation:\n",
    "$$\\forall_{t \\in T} \\, \\forall_{e \\in E_N \\cap E_E} \\, \\varphi_{e,t} \\rightarrow \\neg \\psi_{e,t} $$"
   ]
  },
  {
   "cell_type": "code",
   "execution_count": 5,
   "metadata": {
    "collapsed": true
   },
   "outputs": [],
   "source": [
    "for t in range(amountTimeSlots-1):\n",
    "    for e in [e for e in escalationEmployees if e in normalEmployees]:\n",
    "        model.AddImplication(assignedNormalTimeSlots[(e,t)], assignedEscalationTimeSlots[(e,t)].Not())"
   ]
  },
  {
   "cell_type": "markdown",
   "metadata": {},
   "source": [
    "### Two *consecutive timeslots are not allocated with the same employee*:\n",
    "$$\\forall_{t \\in T} \\, \\forall_{e \\in E} \\, \\varphi_{e,t} \\rightarrow \\neg \\varphi_{e,t+1}$$"
   ]
  },
  {
   "cell_type": "code",
   "execution_count": 6,
   "metadata": {
    "collapsed": true
   },
   "outputs": [],
   "source": [
    "for t in range(amountTimeSlots-1):\n",
    "    for e in normalEmployees:\n",
    "        model.AddImplication(assignedNormalTimeSlots[(e,t)], assignedNormalTimeSlots[(e,t+1)].Not())"
   ]
  },
  {
   "cell_type": "markdown",
   "metadata": {},
   "source": [
    "## Optimizion\n",
    "We build an *objective function* by associating costs to non optimal solutions. A non optimal solution is one in which an allocation is somehow not fair enough for an employee."
   ]
  },
  {
   "cell_type": "markdown",
   "metadata": {},
   "source": [
    "### All employees in $E_N$ should rotate the timeslots equally often in $A_N$\n",
    "We partition the timeslots $T$ in groups of consequitive timeslots so that there is exactly one timeslot for each normal employee in $E_N$. We call the partitions rotations $R$. $i, j \\in \\mathbb{N}$:\n",
    "$$R_i = todo $$\n",
    "$$c_{\\mbox{rotations}} = \\sum_{i = 0}^{|R|} \\sum_{e \\in E_N } { |wl_{A_N}(R_i, e) - 1| }$$\n",
    "\n",
    "The maximal cost (worst-case) of $c_{\\mbox{rotations}}$ over all rotations will not exceed:\n",
    "$$c_{\\mbox{rotations}}^\\mbox{max} = |R| * (2(|E_N| - 1)) $$"
   ]
  },
  {
   "cell_type": "code",
   "execution_count": 7,
   "metadata": {
    "collapsed": true
   },
   "outputs": [],
   "source": [
    "def calcAbsMinus(m1, m2): #helper\n",
    "    m1IntVar = model.NewIntVar(-amountTimeSlots,amountTimeSlots, \"absm1\")\n",
    "    m2IntVar = model.NewIntVar(-amountTimeSlots,amountTimeSlots, \"absm2\")\n",
    "    absValueIntVar = model.NewIntVar(-amountTimeSlots,amountTimeSlots, \"abs\")\n",
    "    model.Add(m1IntVar == m1 - m2)\n",
    "    model.Add(m2IntVar == m2 - m1)\n",
    "    model.AddMaxEquality(absValueIntVar, [m1IntVar, m2IntVar])\n",
    "    return absValueIntVar"
   ]
  },
  {
   "cell_type": "code",
   "execution_count": 8,
   "metadata": {
    "collapsed": false
   },
   "outputs": [],
   "source": [
    "rotations = [timeSlots[i: i + len(normalEmployees)] for i in range(0, len(timeSlots), len(normalEmployees))]\n",
    "\n",
    "costRotations = 0\n",
    "costRotationPerEmployee = {}\n",
    "for r in rotations:\n",
    "    for e in normalEmployees:\n",
    "        costRotationPerEmployee[e,r] = calcAbsMinus(workload(assignedNormalTimeSlots, r, e), 1)\n",
    "        costRotations = costRotations + costRotationPerEmployee[e,r]\n",
    "        \n",
    "costRotationsMax = len(rotations) * 2 * (len(normalEmployees) - 1)"
   ]
  },
  {
   "cell_type": "markdown",
   "metadata": {},
   "source": [
    "### All employees in $E_E$ should rotate the timeslots equally often in $A_E$\n",
    "Again, we partition the timeslots $T$ in groups of consequitive timeslots so that there is exactly one timeslot for each escalation employee in $E_E$. We call the partitions rotations $R_E$. $i, j \\in \\mathbb{N}$:\n",
    "$$R^i_E = todo $$\n",
    "$$c_{\\mbox{rotations-escalation}} = \\sum_{i = 0}^{|R_E|} \\sum_{e \\in E_E } { |wl_{A_E}(R^i_E, e) - 1| }$$\n",
    "\n",
    "The maximal cost (worst-case) of $c_{\\mbox{rotations-escalation}}$ over all rotations will not exceed:\n",
    "$$c_{\\mbox{rotations-escalation}}^\\mbox{max} = |R_E| * (2(|E_E| - 1)) $$"
   ]
  },
  {
   "cell_type": "code",
   "execution_count": 9,
   "metadata": {
    "collapsed": true
   },
   "outputs": [],
   "source": [
    "rotationsEscalation = [timeSlots[i: i + len(escalationEmployees)] for i in range(0, len(timeSlots), len(escalationEmployees))]\n",
    "\n",
    "costRotationsEscalation = 0\n",
    "costRotationEscalationPerEmployee = {}\n",
    "for r in rotationsEscalation:\n",
    "    for e in escalationEmployees:\n",
    "        costRotationEscalationPerEmployee[e,r] = calcAbsMinus(workload(assignedEscalationTimeSlots, r, e), 1)\n",
    "        costRotationsEscalation = costRotationsEscalation + costRotationEscalationPerEmployee[e,r]\n",
    "        \n",
    "costRotationsEscalationMax = len(rotationsEscalation) * 2 * (len(escalationEmployees) - 1)"
   ]
  },
  {
   "cell_type": "markdown",
   "metadata": {
    "collapsed": true
   },
   "source": [
    "### All employees in $E_E$ should be allocated as often as they targeted with $twl_E$ within $T_F$ in $A_E$\n",
    "In an not linear setting we could define the cost like the following:\n",
    "$$c_{\\mbox{target-workload-escalation-1}} = \\sum_{e \\in E_E} (wl_{A_E}(T_F, e) - twl_E(e))^2$$\n",
    "\n",
    "To keep things linear we seek to minimize the maximum difference between target workload and actual workload:\n",
    "$$c_{\\mbox{target-workload-escalation}} = max_{e \\in E_E} \\{ |wl_{A_E}(T_F, e) - twl_E(e)| \\}$$\n",
    "Unfortunately, we can run into the problem that someone specifies an infeasible high value for $twl_E$ so that the maximum difference will shadow the target workloads of all other employees. See following example:\n",
    "\n",
    "| employee | $twl_E$ | $wl_{A_E}$ | diff |\n",
    "|----------|---------|------------|-----:|\n",
    "| $e_0$    | 100     | 10         | * 90 |\n",
    "| $e_1$    | 0       | 10         | 10   |\n",
    "| $e_2$    | 10      | 0          | 10   |\n",
    "\n",
    "Employee $e_1$ does not want any workload and $e_2$ would be happy to take the 10 timeslots from $e_1$, but it will not be optimized because we are just looking at the maximum difference which is 90.\n",
    "\n",
    "To reduce instances of this unwanted behaviour we require that $twl_E$ for any employee will not be unsatisfyable high. Thus, $twl_E$ for any employee can not exceed $|T_F|$ minus non working timeslots for employee constraints $ec_E$."
   ]
  },
  {
   "cell_type": "code",
   "execution_count": 10,
   "metadata": {
    "collapsed": false
   },
   "outputs": [
    {
     "data": {
      "text/plain": [
       "<ortools.sat.python.cp_model.Constraint at 0x7f63101ad358>"
      ]
     },
     "execution_count": 10,
     "metadata": {},
     "output_type": "execute_result"
    }
   ],
   "source": [
    "costTargetWorkloadEscalation = model.NewIntVar(0,len(timeSlotsFree), \"costTargetWorkloadEscalation\")\n",
    "model.AddMaxEquality(costTargetWorkloadEscalation, [\n",
    "        calcAbsMinus(workload(assignedEscalationTimeSlots, timeSlotsFree, e), targetWorkloadEscalation[e]) \n",
    "        for e in escalationEmployees])"
   ]
  },
  {
   "cell_type": "markdown",
   "metadata": {},
   "source": [
    "We need to define $c_{\\mbox{target-workload-escalation}}^\\mbox{max}$ for the worst case or a simpler version which will always exceed the actual worst case:\n",
    "$$c_{\\mbox{target-workload-escalation}}^\\mbox{max} = |T_F|$$"
   ]
  },
  {
   "cell_type": "code",
   "execution_count": 11,
   "metadata": {
    "collapsed": true
   },
   "outputs": [],
   "source": [
    "costTargetWorkloadEscalationMax = len(timeSlotsFree)"
   ]
  },
  {
   "cell_type": "markdown",
   "metadata": {},
   "source": [
    "### All employees in $E_N$ should be allocated as often as they targeted with $twl_N$ within $T_F$\n",
    "Here, we use similar techniques as for $c_{\\mbox{target-workload-escalation}}$:\n",
    "$$c_{\\mbox{target-workload}} = max_{e \\in E_N} \\{ |wl_{A_N}(T_F, e) - twl_N(e)| \\}$$\n",
    "\n",
    "As noted above, we require $twl_N$ to be smaller than an infeasible target workload. Again we could take $|T_F|$ as a rough reference. The rules however will restrict such behaviour because after each timeslot someone else has to take over so a better limit is $\\frac{|T_F|}{2}$."
   ]
  },
  {
   "cell_type": "code",
   "execution_count": 12,
   "metadata": {
    "collapsed": false
   },
   "outputs": [
    {
     "data": {
      "text/plain": [
       "<ortools.sat.python.cp_model.Constraint at 0x7f63101aa3c8>"
      ]
     },
     "execution_count": 12,
     "metadata": {},
     "output_type": "execute_result"
    }
   ],
   "source": [
    "costTargetWorkload = model.NewIntVar(0,len(timeSlotsFree), \"costTargetWorkload\")\n",
    "model.AddMaxEquality(costTargetWorkload, [\n",
    "        calcAbsMinus(workload(assignedNormalTimeSlots, timeSlotsFree, e), targetWorkloadNormal[e]) \n",
    "        for e in normalEmployees])"
   ]
  },
  {
   "cell_type": "markdown",
   "metadata": {},
   "source": [
    "### Minimize costs\n",
    "We have defined the objective function weighting the various components:\n",
    "$$\n",
    "\\begin{aligned}\n",
    "c_{\\mbox{overall}} &= c_{\\mbox{rotations-escalation}} \\\\\n",
    "                   &+ c_{\\mbox{rotations-escalation}}^\\mbox{max} c_{\\mbox{rotations}} \\\\\n",
    "                   &+ c_{\\mbox{rotations-escalation}}^\\mbox{max} c_{\\mbox{rotations}}^\\mbox{max}  c_{\\mbox{target-workload-escalation}} \\\\\n",
    "                   &+ c_{\\mbox{rotations-escalation}}^\\mbox{max} c_{\\mbox{rotations}}^\\mbox{max} c_{\\mbox{target-workload-escalation}}^\\mbox{max} c_{\\mbox{target-workload}}\n",
    "\\end{aligned}$$\n"
   ]
  },
  {
   "cell_type": "code",
   "execution_count": 13,
   "metadata": {
    "collapsed": false
   },
   "outputs": [],
   "source": [
    "costOverall = (costRotationsEscalation\n",
    "               + costRotationsEscalationMax * costRotations \n",
    "               + costRotationsEscalationMax * costRotationsMax * costTargetWorkloadEscalation \n",
    "               + costRotationsEscalationMax * costRotationsMax * costTargetWorkloadEscalationMax * costTargetWorkload)\n",
    "model.Minimize(costOverall)"
   ]
  },
  {
   "cell_type": "code",
   "execution_count": 14,
   "metadata": {
    "collapsed": false
   },
   "outputs": [
    {
     "name": "stdout",
     "output_type": "stream",
     "text": [
      "OPTIMAL\n",
      "slot 0 is for person 3\n",
      "slot 1 is for person 1*\n",
      "slot 2 is for person 4*\n",
      "slot 3 is for person 2\n",
      "slot 4 is for person 4\n",
      "slot 5 is for person 3*\n",
      "slot 6 is for person 2*\n",
      "slot 7 is for person 1\n",
      "slot 8 is for person 3\n",
      "slot 9 is for person 1*\n",
      "slot 10 is for person 2*\n",
      "slot 11 is for person 4\n",
      "slot 12 is for person 1\n",
      "slot 13 is for person 3*\n",
      "slot 14 is for person 4*\n",
      "slot 15 is for person 2\n",
      "workload 1: 4\n",
      "workload 2: 4\n",
      "workload 3: 4\n",
      "workload 4: 4\n",
      "costRotations: 0\n",
      "costTargetWorkload: 2\n",
      "cost for employee 1 in rotation range(0, 4): 0\n",
      "cost for employee 2 in rotation range(0, 4): 0\n",
      "cost for employee 3 in rotation range(0, 4): 0\n",
      "cost for employee 4 in rotation range(0, 4): 0\n",
      "cost for employee 1 in rotation range(4, 8): 0\n",
      "cost for employee 2 in rotation range(4, 8): 0\n",
      "cost for employee 3 in rotation range(4, 8): 0\n",
      "cost for employee 4 in rotation range(4, 8): 0\n",
      "cost for employee 1 in rotation range(8, 12): 0\n",
      "cost for employee 2 in rotation range(8, 12): 0\n",
      "cost for employee 3 in rotation range(8, 12): 0\n",
      "cost for employee 4 in rotation range(8, 12): 0\n",
      "cost for employee 1 in rotation range(12, 16): 0\n",
      "cost for employee 2 in rotation range(12, 16): 0\n",
      "cost for employee 3 in rotation range(12, 16): 0\n",
      "cost for employee 4 in rotation range(12, 16): 0\n",
      "---------Now Escalations\n",
      "escalation slot 0 is for person 2\n",
      "escalation slot 1 is for person 2*\n",
      "escalation slot 2 is for person 2*\n",
      "escalation slot 3 is for person 0\n",
      "escalation slot 4 is for person 1\n",
      "escalation slot 5 is for person 2*\n",
      "escalation slot 6 is for person 1*\n",
      "escalation slot 7 is for person 2\n",
      "escalation slot 8 is for person 0\n",
      "escalation slot 9 is for person 2*\n",
      "escalation slot 10 is for person 0*\n",
      "escalation slot 11 is for person 1\n",
      "escalation slot 12 is for person 0\n",
      "escalation slot 13 is for person 1*\n",
      "escalation slot 14 is for person 2*\n",
      "escalation slot 15 is for person 2\n",
      "costRotationsEscalation: 6\n",
      "costTargetWorkloadEscalation 1\n",
      "cost for employee 0 in rotation range(0, 3): 1\n",
      "cost for employee 1 in rotation range(0, 3): 1\n",
      "cost for employee 2 in rotation range(0, 3): 2\n",
      "cost for employee 0 in rotation range(3, 6): 0\n",
      "cost for employee 1 in rotation range(3, 6): 0\n",
      "cost for employee 2 in rotation range(3, 6): 0\n",
      "cost for employee 0 in rotation range(6, 9): 0\n",
      "cost for employee 1 in rotation range(6, 9): 0\n",
      "cost for employee 2 in rotation range(6, 9): 0\n",
      "cost for employee 0 in rotation range(9, 12): 0\n",
      "cost for employee 1 in rotation range(9, 12): 0\n",
      "cost for employee 2 in rotation range(9, 12): 0\n",
      "cost for employee 0 in rotation range(12, 15): 0\n",
      "cost for employee 1 in rotation range(12, 15): 0\n",
      "cost for employee 2 in rotation range(12, 15): 0\n",
      "cost for employee 0 in rotation range(15, 16): 1\n",
      "cost for employee 1 in rotation range(15, 16): 1\n",
      "cost for employee 2 in rotation range(15, 16): 0\n"
     ]
    }
   ],
   "source": [
    "solver = cp_model.CpSolver()\n",
    "status = solver.StatusName(solver.Solve(model))\n",
    "print(status)\n",
    "    \n",
    "for t in timeSlots:\n",
    "    for e in normalEmployees:\n",
    "        if solver.Value(assignedNormalTimeSlots[(e,t)]):\n",
    "            if t in timeSlotsWorkday:\n",
    "                print(str(assignedNormalTimeSlots[(e,t)]) + \"*\")\n",
    "            else:\n",
    "                print(assignedNormalTimeSlots[(e,t)])\n",
    "                \n",
    "for e in normalEmployees:\n",
    "    print(\"workload %i: %s\" % (e, str(solver.Value(workload(assignedNormalTimeSlots, timeSlots, e)))))\n",
    "    \n",
    "print(\"costRotations: %s\" % str(solver.Value(costRotations)) )\n",
    "print(\"costTargetWorkload: %s\" % str(solver.Value(costTargetWorkload)) )\n",
    "\n",
    "for r in rotations:\n",
    "    for e in normalEmployees:\n",
    "        print(\"cost for employee %i in rotation %s: %s\" % (e, str(r), str(solver.Value(costRotationPerEmployee[(e,r)]))))\n",
    "                \n",
    "print(\"---------Now Escalations\")                \n",
    "for t in timeSlots:\n",
    "    for e in escalationEmployees:\n",
    "        if solver.Value(assignedEscalationTimeSlots[(e,t)]):\n",
    "            if t in timeSlotsWorkday:\n",
    "                print(str(assignedEscalationTimeSlots[(e,t)]) + \"*\")\n",
    "            else:\n",
    "                print(assignedEscalationTimeSlots[(e,t)])\n",
    "                \n",
    "print(\"costRotationsEscalation: %s\" % str(solver.Value(costRotationsEscalation)) )\n",
    "print(\"costTargetWorkloadEscalation %s\" % str(solver.Value(costTargetWorkloadEscalation)))\n",
    "\n",
    "for r in rotationsEscalation:\n",
    "    for e in escalationEmployees:\n",
    "        print(\"cost for employee %i in rotation %s: %s\" % (e, str(r), str(solver.Value(costRotationEscalationPerEmployee[(e,r)]))))"
   ]
  },
  {
   "cell_type": "code",
   "execution_count": null,
   "metadata": {
    "collapsed": true
   },
   "outputs": [],
   "source": []
  }
 ],
 "metadata": {
  "kernelspec": {
   "display_name": "Python 3",
   "language": "python",
   "name": "python3"
  },
  "language_info": {
   "codemirror_mode": {
    "name": "ipython",
    "version": 3
   },
   "file_extension": ".py",
   "mimetype": "text/x-python",
   "name": "python",
   "nbconvert_exporter": "python",
   "pygments_lexer": "ipython3",
   "version": "3.5.3"
  }
 },
 "nbformat": 4,
 "nbformat_minor": 2
}
